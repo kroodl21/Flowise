{
  "nbformat": 4,
  "nbformat_minor": 0,
  "metadata": {
    "colab": {
      "provenance": [],
      "mount_file_id": "1CydILGRcFR6UriZdtIQalO9aroFeYwID",
      "authorship_tag": "ABX9TyPSv+LpcmSudrVRuf2puoLV",
      "include_colab_link": true
    },
    "kernelspec": {
      "name": "python3",
      "display_name": "Python 3"
    },
    "language_info": {
      "name": "python"
    }
  },
  "cells": [
    {
      "cell_type": "markdown",
      "metadata": {
        "id": "view-in-github",
        "colab_type": "text"
      },
      "source": [
        "<a href=\"https://colab.research.google.com/github/kroodl21/Flowise/blob/main/FromRoamResearchMigration.ipynb\" target=\"_parent\"><img src=\"https://colab.research.google.com/assets/colab-badge.svg\" alt=\"Open In Colab\"/></a>"
      ]
    },
    {
      "cell_type": "code",
      "execution_count": 73,
      "metadata": {
        "colab": {
          "base_uri": "https://localhost:8080/"
        },
        "id": "9IuxQ_ibjhGx",
        "outputId": "0772c9cc-d593-4d85-aba6-9423922e8f5d"
      },
      "outputs": [
        {
          "output_type": "stream",
          "name": "stdout",
          "text": [
            "Drive already mounted at /content/gdrive; to attempt to forcibly remount, call drive.mount(\"/content/gdrive\", force_remount=True).\n"
          ]
        }
      ],
      "source": [
        "import json\n",
        "import pandas as pd\n",
        "from google.colab import drive\n",
        "\n",
        "# Mount your Google Drive\n",
        "drive.mount('/content/gdrive')"
      ]
    },
    {
      "cell_type": "code",
      "source": [
        "def extract_children(children):\n",
        "    content = []\n",
        "    for child in children:\n",
        "        string = child.get('string')\n",
        "        if string:  # Only add non-empty strings\n",
        "            content.append(string)\n",
        "        # Check for nested children and extract them as well\n",
        "        if 'children' in child:\n",
        "            content.extend(extract_children(child['children']))\n",
        "    return content"
      ],
      "metadata": {
        "id": "RGWclhoqZrJ8"
      },
      "execution_count": 74,
      "outputs": []
    },
    {
      "cell_type": "code",
      "source": [
        "json_file_path = '/content/gdrive/MyDrive/ColabMount/Test20200807.json'\n"
      ],
      "metadata": {
        "id": "XI1KkmripEpL"
      },
      "execution_count": 75,
      "outputs": []
    },
    {
      "cell_type": "code",
      "source": [
        "with open(json_file_path, 'r') as json_file:\n",
        "    data = json.load(json_file)"
      ],
      "metadata": {
        "id": "3zBmrAVyaUDa"
      },
      "execution_count": 76,
      "outputs": []
    },
    {
      "cell_type": "code",
      "source": [
        "titles = []\n",
        "contents = []"
      ],
      "metadata": {
        "id": "N1s1GEoZZvtU"
      },
      "execution_count": 77,
      "outputs": []
    },
    {
      "cell_type": "code",
      "source": [
        "# Loop through each dictionary in the list\n",
        "for document in data:\n",
        "\n",
        "    # Check if 'title' exists and add it to titles\n",
        "    if 'title' in document:\n",
        "        titles.append(document['title'])\n",
        "\n",
        "    # Extract content\n",
        "    content = []\n",
        "    if 'children' in document:\n",
        "        content = extract_children(document['children'])\n",
        "\n",
        "    # Add content to contents (even if empty)\n",
        "    contents.append(\"\\n\\n\".join(content))\n"
      ],
      "metadata": {
        "id": "8b-GXXVrZ26k"
      },
      "execution_count": 78,
      "outputs": []
    },
    {
      "cell_type": "code",
      "source": [
        "# Create a DataFrame\n",
        "df = pd.DataFrame({\n",
        "    'Title': titles,\n",
        "    'Content': contents\n",
        "})\n",
        "\n",
        "print(df)"
      ],
      "metadata": {
        "colab": {
          "base_uri": "https://localhost:8080/"
        },
        "id": "Nr6MlJgiZ2we",
        "outputId": "34445690-5b40-4a5f-a3af-7385c81064e4"
      },
      "execution_count": 79,
      "outputs": [
        {
          "output_type": "stream",
          "name": "stdout",
          "text": [
            "                   Title                                            Content\n",
            "0       August 7th, 2020  English\\n\\nInterestingly, in the high-fidelity...\n",
            "1               Template  Morning Questions\\n\\nHow many hours did you sl...\n",
            "2     Digital Healthcare  Source: https://www.youtube.com/watch?v=4rF8PM...\n",
            "3                    고태봉  하이투자증권(주) 리서치센터 이사\\n\\n이분 찐이듯!! 정말 산업에 대한 통찰력이 ...\n",
            "4                    UAM  **Urban Air Mobility**\\n\\nNASA's 2018  Report\\...\n",
            "..                   ...                                                ...\n",
            "260    August 27th, 2021  울고 싶다. First round조차 통과하지 못하다니!!! 마음이 무너져내리는 것...\n",
            "261    August 29th, 2021  Sanket이 얘기했던 Hang in there, JUST AROUND THE CO...\n",
            "262    August 30th, 2021  Clio에서 확인사살 이메일을 받았다. 세상에. 이건 내가 믿음이 없었기 때문에 기...\n",
            "263  September 1st, 2021  Why do I feel this lousy after I met Jason? I ...\n",
            "264  September 2nd, 2021  Radical Research Summit에 참여할까 말까 고민된다. 넘 절박한 내...\n",
            "\n",
            "[265 rows x 2 columns]\n"
          ]
        }
      ]
    },
    {
      "cell_type": "code",
      "source": [
        "# Define the path to your output CSV file\n",
        "output_csv_file_path = '/content/gdrive/MyDrive/ColabOutput/path_to_your_output_file.csv'\n",
        "\n",
        "# Write DataFrame to CSV file\n",
        "df.to_csv(output_csv_file_path, index=False)"
      ],
      "metadata": {
        "id": "T8b4qECgbGQw"
      },
      "execution_count": 81,
      "outputs": []
    }
  ]
}